{
 "cells": [
  {
   "cell_type": "markdown",
   "metadata": {},
   "source": [
    "# Model Building"
   ]
  },
  {
   "cell_type": "markdown",
   "metadata": {},
   "source": [
    "### Importing required packages"
   ]
  },
  {
   "cell_type": "code",
   "execution_count": 6,
   "metadata": {
    "colab": {
     "base_uri": "https://localhost:8080/"
    },
    "id": "cjLadgc3bRaR",
    "outputId": "d9747567-dd63-455c-8190-9c4e98ffa7d8"
   },
   "outputs": [],
   "source": [
    "import pandas as pd\n",
    "import warnings\n",
    "import matplotlib.pyplot as plt \n",
    "import numpy as np \n",
    "warnings.filterwarnings('ignore')"
   ]
  },
  {
   "cell_type": "markdown",
   "metadata": {},
   "source": [
    "### Reading DataSet"
   ]
  },
  {
   "cell_type": "code",
   "execution_count": 7,
   "metadata": {
    "colab": {
     "base_uri": "https://localhost:8080/",
     "height": 1000
    },
    "id": "tZLo1_3jbnXZ",
    "outputId": "7bc1b384-169b-44a8-cf67-df5c9cfbf2db"
   },
   "outputs": [],
   "source": [
    "df = pd.read_csv(\"Final DataFrame.csv\")"
   ]
  },
  {
   "cell_type": "code",
   "execution_count": 8,
   "metadata": {
    "colab": {
     "base_uri": "https://localhost:8080/"
    },
    "id": "7WaWOEkHcH7U",
    "outputId": "6490f8ff-82ef-4ee8-f094-00375d11aee0"
   },
   "outputs": [
    {
     "data": {
      "text/plain": [
       "Index(['Unnamed: 0', 'Year', 'Month', 'Inflation/CPI', 'UNRATE', 'FEDFUNDS',\n",
       "       'CCI', 'Market_Cap_to_GDP', 'Avg T10Y3M', 'Housing Price',\n",
       "       'Debt_to_GDP', 'Manufacturing Output', 'M2V', 'Recession_US'],\n",
       "      dtype='object')"
      ]
     },
     "execution_count": 8,
     "metadata": {},
     "output_type": "execute_result"
    }
   ],
   "source": [
    "df.columns"
   ]
  },
  {
   "cell_type": "code",
   "execution_count": 9,
   "metadata": {
    "id": "KlbYuiWQcgD_"
   },
   "outputs": [],
   "source": [
    "df_model = df[['Inflation/CPI', 'UNRATE', 'FEDFUNDS',\n",
    "       'CCI', 'Market_Cap_to_GDP', 'Avg T10Y3M', 'Housing Price',\n",
    "       'Debt_to_GDP', 'Manufacturing Output', 'M2V', 'Recession_US']]"
   ]
  },
  {
   "cell_type": "code",
   "execution_count": 10,
   "metadata": {
    "id": "J_NvNt0riyTN"
   },
   "outputs": [],
   "source": [
    "# get dummy data \n",
    "df_dum = pd.get_dummies(df_model)"
   ]
  },
  {
   "cell_type": "code",
   "execution_count": 11,
   "metadata": {
    "colab": {
     "base_uri": "https://localhost:8080/",
     "height": 419
    },
    "id": "2UALxYWpjG3u",
    "outputId": "dc6f619b-3306-4c53-86b8-3c8668a9b4d9"
   },
   "outputs": [
    {
     "data": {
      "text/html": [
       "<div>\n",
       "<style scoped>\n",
       "    .dataframe tbody tr th:only-of-type {\n",
       "        vertical-align: middle;\n",
       "    }\n",
       "\n",
       "    .dataframe tbody tr th {\n",
       "        vertical-align: top;\n",
       "    }\n",
       "\n",
       "    .dataframe thead th {\n",
       "        text-align: right;\n",
       "    }\n",
       "</style>\n",
       "<table border=\"1\" class=\"dataframe\">\n",
       "  <thead>\n",
       "    <tr style=\"text-align: right;\">\n",
       "      <th></th>\n",
       "      <th>Inflation/CPI</th>\n",
       "      <th>UNRATE</th>\n",
       "      <th>FEDFUNDS</th>\n",
       "      <th>CCI</th>\n",
       "      <th>Market_Cap_to_GDP</th>\n",
       "      <th>Avg T10Y3M</th>\n",
       "      <th>Housing Price</th>\n",
       "      <th>Debt_to_GDP</th>\n",
       "      <th>Manufacturing Output</th>\n",
       "      <th>M2V</th>\n",
       "      <th>Recession_US</th>\n",
       "    </tr>\n",
       "  </thead>\n",
       "  <tbody>\n",
       "    <tr>\n",
       "      <th>0</th>\n",
       "      <td>94.400</td>\n",
       "      <td>8.6</td>\n",
       "      <td>13.22</td>\n",
       "      <td>97.50</td>\n",
       "      <td>0.184275</td>\n",
       "      <td>1.676000</td>\n",
       "      <td>106.20</td>\n",
       "      <td>32.41298</td>\n",
       "      <td>91.302757</td>\n",
       "      <td>1.842</td>\n",
       "      <td>0</td>\n",
       "    </tr>\n",
       "    <tr>\n",
       "      <th>1</th>\n",
       "      <td>94.700</td>\n",
       "      <td>8.9</td>\n",
       "      <td>14.78</td>\n",
       "      <td>97.41</td>\n",
       "      <td>0.184275</td>\n",
       "      <td>0.131500</td>\n",
       "      <td>106.20</td>\n",
       "      <td>32.41298</td>\n",
       "      <td>91.302757</td>\n",
       "      <td>1.842</td>\n",
       "      <td>0</td>\n",
       "    </tr>\n",
       "    <tr>\n",
       "      <th>2</th>\n",
       "      <td>94.700</td>\n",
       "      <td>9.0</td>\n",
       "      <td>14.68</td>\n",
       "      <td>97.27</td>\n",
       "      <td>0.184275</td>\n",
       "      <td>0.546522</td>\n",
       "      <td>106.20</td>\n",
       "      <td>32.41298</td>\n",
       "      <td>91.302757</td>\n",
       "      <td>1.842</td>\n",
       "      <td>0</td>\n",
       "    </tr>\n",
       "    <tr>\n",
       "      <th>3</th>\n",
       "      <td>95.000</td>\n",
       "      <td>9.3</td>\n",
       "      <td>14.94</td>\n",
       "      <td>97.31</td>\n",
       "      <td>0.182363</td>\n",
       "      <td>0.503182</td>\n",
       "      <td>108.84</td>\n",
       "      <td>32.40213</td>\n",
       "      <td>91.302757</td>\n",
       "      <td>1.836</td>\n",
       "      <td>0</td>\n",
       "    </tr>\n",
       "    <tr>\n",
       "      <th>4</th>\n",
       "      <td>95.900</td>\n",
       "      <td>9.4</td>\n",
       "      <td>14.45</td>\n",
       "      <td>97.38</td>\n",
       "      <td>0.182363</td>\n",
       "      <td>0.865238</td>\n",
       "      <td>108.84</td>\n",
       "      <td>32.40213</td>\n",
       "      <td>91.302757</td>\n",
       "      <td>1.836</td>\n",
       "      <td>0</td>\n",
       "    </tr>\n",
       "    <tr>\n",
       "      <th>...</th>\n",
       "      <td>...</td>\n",
       "      <td>...</td>\n",
       "      <td>...</td>\n",
       "      <td>...</td>\n",
       "      <td>...</td>\n",
       "      <td>...</td>\n",
       "      <td>...</td>\n",
       "      <td>...</td>\n",
       "      <td>...</td>\n",
       "      <td>...</td>\n",
       "      <td>...</td>\n",
       "    </tr>\n",
       "    <tr>\n",
       "      <th>480</th>\n",
       "      <td>281.933</td>\n",
       "      <td>4.0</td>\n",
       "      <td>0.08</td>\n",
       "      <td>97.46</td>\n",
       "      <td>2.371155</td>\n",
       "      <td>1.541429</td>\n",
       "      <td>578.58</td>\n",
       "      <td>122.87943</td>\n",
       "      <td>102.768000</td>\n",
       "      <td>1.140</td>\n",
       "      <td>0</td>\n",
       "    </tr>\n",
       "    <tr>\n",
       "      <th>481</th>\n",
       "      <td>284.182</td>\n",
       "      <td>3.8</td>\n",
       "      <td>0.08</td>\n",
       "      <td>97.13</td>\n",
       "      <td>2.371155</td>\n",
       "      <td>1.538500</td>\n",
       "      <td>578.58</td>\n",
       "      <td>122.87943</td>\n",
       "      <td>102.768000</td>\n",
       "      <td>1.140</td>\n",
       "      <td>0</td>\n",
       "    </tr>\n",
       "    <tr>\n",
       "      <th>482</th>\n",
       "      <td>287.708</td>\n",
       "      <td>3.6</td>\n",
       "      <td>0.20</td>\n",
       "      <td>96.91</td>\n",
       "      <td>2.371155</td>\n",
       "      <td>1.680435</td>\n",
       "      <td>578.58</td>\n",
       "      <td>122.87943</td>\n",
       "      <td>102.768000</td>\n",
       "      <td>1.140</td>\n",
       "      <td>0</td>\n",
       "    </tr>\n",
       "    <tr>\n",
       "      <th>483</th>\n",
       "      <td>288.663</td>\n",
       "      <td>3.6</td>\n",
       "      <td>0.33</td>\n",
       "      <td>96.84</td>\n",
       "      <td>2.371155</td>\n",
       "      <td>1.889524</td>\n",
       "      <td>617.89</td>\n",
       "      <td>121.07100</td>\n",
       "      <td>103.670000</td>\n",
       "      <td>1.167</td>\n",
       "      <td>0</td>\n",
       "    </tr>\n",
       "    <tr>\n",
       "      <th>484</th>\n",
       "      <td>291.474</td>\n",
       "      <td>3.6</td>\n",
       "      <td>0.77</td>\n",
       "      <td>96.60</td>\n",
       "      <td>2.371155</td>\n",
       "      <td>1.818636</td>\n",
       "      <td>617.89</td>\n",
       "      <td>121.07100</td>\n",
       "      <td>103.670000</td>\n",
       "      <td>1.167</td>\n",
       "      <td>0</td>\n",
       "    </tr>\n",
       "  </tbody>\n",
       "</table>\n",
       "<p>485 rows × 11 columns</p>\n",
       "</div>"
      ],
      "text/plain": [
       "     Inflation/CPI  UNRATE  FEDFUNDS    CCI  Market_Cap_to_GDP  Avg T10Y3M  \\\n",
       "0           94.400     8.6     13.22  97.50           0.184275    1.676000   \n",
       "1           94.700     8.9     14.78  97.41           0.184275    0.131500   \n",
       "2           94.700     9.0     14.68  97.27           0.184275    0.546522   \n",
       "3           95.000     9.3     14.94  97.31           0.182363    0.503182   \n",
       "4           95.900     9.4     14.45  97.38           0.182363    0.865238   \n",
       "..             ...     ...       ...    ...                ...         ...   \n",
       "480        281.933     4.0      0.08  97.46           2.371155    1.541429   \n",
       "481        284.182     3.8      0.08  97.13           2.371155    1.538500   \n",
       "482        287.708     3.6      0.20  96.91           2.371155    1.680435   \n",
       "483        288.663     3.6      0.33  96.84           2.371155    1.889524   \n",
       "484        291.474     3.6      0.77  96.60           2.371155    1.818636   \n",
       "\n",
       "     Housing Price  Debt_to_GDP  Manufacturing Output    M2V  Recession_US  \n",
       "0           106.20     32.41298             91.302757  1.842             0  \n",
       "1           106.20     32.41298             91.302757  1.842             0  \n",
       "2           106.20     32.41298             91.302757  1.842             0  \n",
       "3           108.84     32.40213             91.302757  1.836             0  \n",
       "4           108.84     32.40213             91.302757  1.836             0  \n",
       "..             ...          ...                   ...    ...           ...  \n",
       "480         578.58    122.87943            102.768000  1.140             0  \n",
       "481         578.58    122.87943            102.768000  1.140             0  \n",
       "482         578.58    122.87943            102.768000  1.140             0  \n",
       "483         617.89    121.07100            103.670000  1.167             0  \n",
       "484         617.89    121.07100            103.670000  1.167             0  \n",
       "\n",
       "[485 rows x 11 columns]"
      ]
     },
     "execution_count": 11,
     "metadata": {},
     "output_type": "execute_result"
    }
   ],
   "source": [
    "df_dum"
   ]
  },
  {
   "cell_type": "markdown",
   "metadata": {},
   "source": [
    "### Splitting Data for Test and Training"
   ]
  },
  {
   "cell_type": "code",
   "execution_count": 12,
   "metadata": {
    "id": "sV123ay6jIMq"
   },
   "outputs": [],
   "source": [
    "# train test split \n",
    "from sklearn.model_selection import train_test_split\n",
    "\n",
    "X = df_dum.drop('Recession_US', axis =1)\n",
    "Y = df_dum.Recession_US.values\n",
    "\n",
    "x_train, x_test, y_train, y_test = train_test_split(X, Y, test_size=0.2, random_state=2)"
   ]
  },
  {
   "cell_type": "markdown",
   "metadata": {},
   "source": [
    "## Using GridSearchCV\n",
    "finding the best suited classification model using GridSearchCV"
   ]
  },
  {
   "cell_type": "markdown",
   "metadata": {},
   "source": [
    "### Import necessary packages"
   ]
  },
  {
   "cell_type": "code",
   "execution_count": 13,
   "metadata": {},
   "outputs": [],
   "source": [
    "from sklearn.linear_model import LogisticRegression\n",
    "from sklearn.svm import SVC\n",
    "from sklearn.ensemble import RandomForestClassifier\n",
    "from sklearn.ensemble import GradientBoostingClassifier\n",
    "from sklearn.pipeline import Pipeline\n",
    "from sklearn.model_selection import GridSearchCV\n",
    "from sklearn.model_selection import train_test_split\n",
    "from sklearn import metrics"
   ]
  },
  {
   "cell_type": "markdown",
   "metadata": {},
   "source": [
    "### Initialze the estimators"
   ]
  },
  {
   "cell_type": "code",
   "execution_count": 14,
   "metadata": {},
   "outputs": [],
   "source": [
    "clf1 = RandomForestClassifier(random_state=42)\n",
    "clf2 = SVC(probability=True, random_state=42)\n",
    "clf3 = LogisticRegression(random_state=42)\n",
    "clf4 = GradientBoostingClassifier(random_state=42)\n"
   ]
  },
  {
   "cell_type": "markdown",
   "metadata": {},
   "source": [
    "### Initiaze the hyperparameters for Random Forest"
   ]
  },
  {
   "cell_type": "code",
   "execution_count": 15,
   "metadata": {},
   "outputs": [],
   "source": [
    "param1 = {}\n",
    "param1['classifier__n_estimators'] = [10, 50, 100, 250]\n",
    "param1['classifier__max_depth'] = [5, 10, 20]\n",
    "param1['classifier__class_weight'] = [None, {0:1,1:5}, {0:1,1:10}, {0:1,1:25}]\n",
    "param1['classifier'] = [clf1]"
   ]
  },
  {
   "cell_type": "code",
   "execution_count": 16,
   "metadata": {},
   "outputs": [],
   "source": [
    "# creating Pipeline\n",
    "pipeline = Pipeline([('classifier', clf1)])\n",
    "params = [param1]"
   ]
  },
  {
   "cell_type": "code",
   "execution_count": 17,
   "metadata": {},
   "outputs": [],
   "source": [
    "# finding best parameters and fitting that model\n",
    "gs = GridSearchCV(pipeline, params, cv=3, n_jobs=-1, scoring='roc_auc').fit(x_train, y_train)"
   ]
  },
  {
   "cell_type": "code",
   "execution_count": 18,
   "metadata": {},
   "outputs": [
    {
     "data": {
      "text/plain": [
       "{'classifier': RandomForestClassifier(class_weight={0: 1, 1: 10}, max_depth=10,\n",
       "                        random_state=42),\n",
       " 'classifier__class_weight': {0: 1, 1: 10},\n",
       " 'classifier__max_depth': 10,\n",
       " 'classifier__n_estimators': 100}"
      ]
     },
     "execution_count": 18,
     "metadata": {},
     "output_type": "execute_result"
    }
   ],
   "source": [
    "# Best performing model and its corresponding hyperparameters\n",
    "gs.best_params_"
   ]
  },
  {
   "cell_type": "code",
   "execution_count": 19,
   "metadata": {},
   "outputs": [
    {
     "data": {
      "text/plain": [
       "0.9942402230537825"
      ]
     },
     "execution_count": 19,
     "metadata": {},
     "output_type": "execute_result"
    }
   ],
   "source": [
    "# the mean cross-validated score of the best_estimator\n",
    "gs.best_score_"
   ]
  },
  {
   "cell_type": "code",
   "execution_count": 20,
   "metadata": {},
   "outputs": [
    {
     "name": "stdout",
     "output_type": "stream",
     "text": [
      "Test Precision: 0.8571428571428571\n",
      "Test Recall: 0.8571428571428571\n",
      "Test F1 Score: 0.8571428571428571\n",
      "Test ROC AUC Score: 0.9230158730158731\n"
     ]
    }
   ],
   "source": [
    "# Test data performance\n",
    "from sklearn.metrics import *\n",
    "print(\"Test Precision:\",precision_score(gs.predict(x_test), y_test))\n",
    "print(\"Test Recall:\",recall_score(gs.predict(x_test), y_test))\n",
    "print(\"Test F1 Score:\",f1_score(gs.predict(x_test), y_test))\n",
    "print(\"Test ROC AUC Score:\",roc_auc_score(gs.predict(x_test), y_test))"
   ]
  },
  {
   "cell_type": "code",
   "execution_count": 21,
   "metadata": {},
   "outputs": [
    {
     "data": {
      "image/png": "[encoded data removed]",
      "text/plain": [
       "<Figure size 640x480 with 2 Axes>"
      ]
     },
     "metadata": {},
     "output_type": "display_data"
    }
   ],
   "source": [
    "# Confusion Matrix\n",
    "confusion_matrix1 = metrics.confusion_matrix(y_test,gs.predict(x_test))\n",
    "\n",
    "cm_display1 = metrics.ConfusionMatrixDisplay(confusion_matrix = confusion_matrix1, display_labels = [True,False])\n",
    "\n",
    "cm_display1.plot()\n",
    "plt.show()"
   ]
  },
  {
   "cell_type": "code",
   "execution_count": 22,
   "metadata": {},
   "outputs": [
    {
     "data": {
      "text/plain": [
       "[<matplotlib.lines.Line2D at 0x21d4087e490>]"
      ]
     },
     "execution_count": 22,
     "metadata": {},
     "output_type": "execute_result"
    },
    {
     "data": {
      "image/png": "[encoded data removed]",
      "text/plain": [
       "<Figure size 640x480 with 1 Axes>"
      ]
     },
     "metadata": {},
     "output_type": "display_data"
    }
   ],
   "source": [
    "# roc-auc curve\n",
    "y_predict_probab1 = gs.predict_proba(x_test)[:,1]\n",
    "\n",
    "from sklearn.metrics import roc_curve\n",
    "fpr, tpr,thresholds=roc_curve(y_test,y_predict_probab1)\n",
    "\n",
    "## plot roc curve\n",
    "plt.plot(fpr,tpr)"
   ]
  },
  {
   "cell_type": "markdown",
   "metadata": {},
   "source": [
    "# SVM\n",
    "- Parameter tuning, and\n",
    "- model Building"
   ]
  },
  {
   "cell_type": "markdown",
   "metadata": {},
   "source": [
    "#### Initiaze the hyperparameters for SVM"
   ]
  },
  {
   "cell_type": "code",
   "execution_count": 23,
   "metadata": {},
   "outputs": [],
   "source": [
    "param2 = {}\n",
    "param2['classifier__C'] = [10**-2, 10**-1, 10**0, 10**1, 10**2]\n",
    "param2['classifier__class_weight'] = [None, {0:1,1:5}, {0:1,1:10}, {0:1,1:25}]\n",
    "param2['classifier'] = [clf2]"
   ]
  },
  {
   "cell_type": "code",
   "execution_count": 24,
   "metadata": {},
   "outputs": [],
   "source": [
    "pipeline2 = Pipeline([('classifier', clf2)])\n",
    "params2 = [param2]"
   ]
  },
  {
   "cell_type": "code",
   "execution_count": 25,
   "metadata": {},
   "outputs": [],
   "source": [
    "gs2 = GridSearchCV(pipeline2, params2, cv=3, n_jobs=-1, scoring='roc_auc').fit(x_train, y_train)"
   ]
  },
  {
   "cell_type": "code",
   "execution_count": 26,
   "metadata": {},
   "outputs": [
    {
     "data": {
      "text/plain": [
       "{'classifier': SVC(C=100, class_weight={0: 1, 1: 25}, probability=True, random_state=42),\n",
       " 'classifier__C': 100,\n",
       " 'classifier__class_weight': {0: 1, 1: 25}}"
      ]
     },
     "execution_count": 26,
     "metadata": {},
     "output_type": "execute_result"
    }
   ],
   "source": [
    "# Best performing model and its corresponding hyperparameters\n",
    "gs2.best_params_"
   ]
  },
  {
   "cell_type": "code",
   "execution_count": 27,
   "metadata": {},
   "outputs": [
    {
     "data": {
      "text/plain": [
       "0.9717017777835325"
      ]
     },
     "execution_count": 27,
     "metadata": {},
     "output_type": "execute_result"
    }
   ],
   "source": [
    "# the mean cross-validated score of the best_estimator\n",
    "gs2.best_score_"
   ]
  },
  {
   "cell_type": "code",
   "execution_count": 28,
   "metadata": {},
   "outputs": [
    {
     "name": "stdout",
     "output_type": "stream",
     "text": [
      "Test Precision: 1.0\n",
      "Test Recall: 0.3684210526315789\n",
      "Test F1 Score: 0.5384615384615384\n",
      "Test ROC AUC Score: 0.6842105263157895\n"
     ]
    }
   ],
   "source": [
    "# Test data performance\n",
    "print(\"Test Precision:\",precision_score(gs2.predict(x_test), y_test))\n",
    "print(\"Test Recall:\",recall_score(gs2.predict(x_test), y_test))\n",
    "print(\"Test F1 Score:\",f1_score(gs2.predict(x_test), y_test))\n",
    "print(\"Test ROC AUC Score:\",roc_auc_score(gs2.predict(x_test), y_test))"
   ]
  },
  {
   "cell_type": "code",
   "execution_count": 29,
   "metadata": {},
   "outputs": [
    {
     "data": {
      "image/png": "[encoded data removed]",
      "text/plain": [
       "<Figure size 640x480 with 2 Axes>"
      ]
     },
     "metadata": {},
     "output_type": "display_data"
    }
   ],
   "source": [
    "# Confusion Matrix\n",
    "confusion_matrix2 = metrics.confusion_matrix(y_test,gs2.predict(x_test))\n",
    "\n",
    "cm_display2 = metrics.ConfusionMatrixDisplay(confusion_matrix = confusion_matrix2, display_labels = [True,False])\n",
    "\n",
    "cm_display2.plot()\n",
    "plt.show()"
   ]
  },
  {
   "cell_type": "code",
   "execution_count": 30,
   "metadata": {},
   "outputs": [
    {
     "data": {
      "text/plain": [
       "[<matplotlib.lines.Line2D at 0x21d419c68b0>]"
      ]
     },
     "execution_count": 30,
     "metadata": {},
     "output_type": "execute_result"
    },
    {
     "data": {
      "image/png": "[encoded data removed]",
      "text/plain": [
       "<Figure size 640x480 with 1 Axes>"
      ]
     },
     "metadata": {},
     "output_type": "display_data"
    }
   ],
   "source": [
    "# roc-auc curve\n",
    "y_predict_probab2 = gs2.predict_proba(x_test)[:,1]\n",
    "\n",
    "from sklearn.metrics import roc_curve\n",
    "fpr, tpr,thresholds=roc_curve(y_test,y_predict_probab2)\n",
    "\n",
    "## plot roc curve\n",
    "plt.plot(fpr,tpr)"
   ]
  },
  {
   "cell_type": "markdown",
   "metadata": {},
   "source": [
    "### Logistic Regression\n",
    "- Finding best Hyperparameter for Logstic Regression\n",
    "- And, Training the model"
   ]
  },
  {
   "cell_type": "markdown",
   "metadata": {},
   "source": [
    "#### Initiaze the hyperparameters for Logistic Regression"
   ]
  },
  {
   "cell_type": "code",
   "execution_count": 31,
   "metadata": {},
   "outputs": [],
   "source": [
    "param3 = {}\n",
    "param3['classifier__C'] = [10**-2, 10**-1, 10**0, 10**1, 10**2]\n",
    "param3['classifier__penalty'] = ['l1', 'l2']\n",
    "param3['classifier__class_weight'] = [None, {0:1,1:5}, {0:1,1:10}, {0:1,1:25}]\n",
    "param3['classifier'] = [clf3]"
   ]
  },
  {
   "cell_type": "code",
   "execution_count": 32,
   "metadata": {},
   "outputs": [],
   "source": [
    "pipeline3 = Pipeline([('classifier', clf3)])\n",
    "params3 = [param3]"
   ]
  },
  {
   "cell_type": "code",
   "execution_count": 33,
   "metadata": {},
   "outputs": [],
   "source": [
    "gs3 = GridSearchCV(pipeline3, params3, cv=3, n_jobs=-1, scoring='roc_auc').fit(x_train, y_train)"
   ]
  },
  {
   "cell_type": "code",
   "execution_count": 34,
   "metadata": {},
   "outputs": [
    {
     "data": {
      "text/plain": [
       "{'classifier': LogisticRegression(C=100, class_weight={0: 1, 1: 25}, random_state=42),\n",
       " 'classifier__C': 100,\n",
       " 'classifier__class_weight': {0: 1, 1: 25},\n",
       " 'classifier__penalty': 'l2'}"
      ]
     },
     "execution_count": 34,
     "metadata": {},
     "output_type": "execute_result"
    }
   ],
   "source": [
    "# Best performing model and its corresponding hyperparameters\n",
    "gs3.best_params_"
   ]
  },
  {
   "cell_type": "code",
   "execution_count": 35,
   "metadata": {},
   "outputs": [
    {
     "data": {
      "text/plain": [
       "0.9478987280582496"
      ]
     },
     "execution_count": 35,
     "metadata": {},
     "output_type": "execute_result"
    }
   ],
   "source": [
    "gs3.best_score_"
   ]
  },
  {
   "cell_type": "code",
   "execution_count": 36,
   "metadata": {},
   "outputs": [
    {
     "name": "stdout",
     "output_type": "stream",
     "text": [
      "Test Precision: 1.0\n",
      "Test Recall: 0.3684210526315789\n",
      "Test F1 Score: 0.5384615384615384\n",
      "Test ROC AUC Score: 0.6842105263157895\n"
     ]
    }
   ],
   "source": [
    "# Test data performance\n",
    "print(\"Test Precision:\",precision_score(gs3.predict(x_test), y_test))\n",
    "print(\"Test Recall:\",recall_score(gs3.predict(x_test), y_test))\n",
    "print(\"Test F1 Score:\",f1_score(gs3.predict(x_test), y_test))\n",
    "print(\"Test ROC AUC Score:\",roc_auc_score(gs3.predict(x_test), y_test))"
   ]
  },
  {
   "cell_type": "code",
   "execution_count": 37,
   "metadata": {},
   "outputs": [
    {
     "data": {
      "image/png": "[encoded data removed]",
      "text/plain": [
       "<Figure size 640x480 with 2 Axes>"
      ]
     },
     "metadata": {},
     "output_type": "display_data"
    }
   ],
   "source": [
    "# Confusion Matrix\n",
    "confusion_matrix3 = metrics.confusion_matrix(y_test,gs3.predict(x_test))\n",
    "\n",
    "cm_display3 = metrics.ConfusionMatrixDisplay(confusion_matrix = confusion_matrix3, display_labels = [True,False])\n",
    "\n",
    "cm_display3.plot()\n",
    "plt.show()"
   ]
  },
  {
   "cell_type": "code",
   "execution_count": 38,
   "metadata": {},
   "outputs": [
    {
     "data": {
      "text/plain": [
       "[<matplotlib.lines.Line2D at 0x21d409afd30>]"
      ]
     },
     "execution_count": 38,
     "metadata": {},
     "output_type": "execute_result"
    },
    {
     "data": {
      "image/png": "[encoded data removed]",
      "text/plain": [
       "<Figure size 640x480 with 1 Axes>"
      ]
     },
     "metadata": {},
     "output_type": "display_data"
    }
   ],
   "source": [
    "# roc-auc curve\n",
    "y_predict_probab3 = gs3.predict_proba(x_test)[:,1]\n",
    "\n",
    "from sklearn.metrics import roc_curve\n",
    "fpr, tpr,thresholds=roc_curve(y_test,y_predict_probab3)\n",
    "\n",
    "## plot roc curve\n",
    "plt.plot(fpr,tpr)"
   ]
  },
  {
   "cell_type": "markdown",
   "metadata": {},
   "source": [
    "### Gradient Boost"
   ]
  },
  {
   "cell_type": "markdown",
   "metadata": {},
   "source": [
    "#### Initiaze the hyperparameters for Random Forest"
   ]
  },
  {
   "cell_type": "code",
   "execution_count": 39,
   "metadata": {},
   "outputs": [],
   "source": [
    "param4 = {}\n",
    "param4['classifier__n_estimators'] = [10, 50, 100, 250]\n",
    "param4['classifier__max_depth'] = [5, 10, 20]\n",
    "param4['classifier'] = [clf4]"
   ]
  },
  {
   "cell_type": "code",
   "execution_count": 40,
   "metadata": {},
   "outputs": [],
   "source": [
    "pipeline4 = Pipeline([('classifier', clf4)])\n",
    "params4 = [param4]"
   ]
  },
  {
   "cell_type": "code",
   "execution_count": 41,
   "metadata": {},
   "outputs": [],
   "source": [
    "gs4 = GridSearchCV(pipeline4, params4, cv=3, n_jobs=-1, scoring='roc_auc').fit(x_train, y_train)"
   ]
  },
  {
   "cell_type": "code",
   "execution_count": 42,
   "metadata": {},
   "outputs": [
    {
     "data": {
      "text/plain": [
       "{'classifier': GradientBoostingClassifier(max_depth=5, random_state=42),\n",
       " 'classifier__max_depth': 5,\n",
       " 'classifier__n_estimators': 100}"
      ]
     },
     "execution_count": 42,
     "metadata": {},
     "output_type": "execute_result"
    }
   ],
   "source": [
    "# Best performing model and its corresponding hyperparameters\n",
    "gs4.best_params_\n"
   ]
  },
  {
   "cell_type": "code",
   "execution_count": 43,
   "metadata": {},
   "outputs": [
    {
     "data": {
      "text/plain": [
       "0.9431467502255139"
      ]
     },
     "execution_count": 43,
     "metadata": {},
     "output_type": "execute_result"
    }
   ],
   "source": [
    "gs4.best_score_"
   ]
  },
  {
   "cell_type": "code",
   "execution_count": 44,
   "metadata": {},
   "outputs": [
    {
     "name": "stdout",
     "output_type": "stream",
     "text": [
      "Test Precision: 0.8571428571428571\n",
      "Test Recall: 0.8571428571428571\n",
      "Test F1 Score: 0.8571428571428571\n",
      "Test ROC AUC Score: 0.9230158730158731\n"
     ]
    }
   ],
   "source": [
    "# Test data performance\n",
    "print(\"Test Precision:\",precision_score(gs4.predict(x_test), y_test))\n",
    "print(\"Test Recall:\",recall_score(gs4.predict(x_test), y_test))\n",
    "print(\"Test F1 Score:\",f1_score(gs4.predict(x_test), y_test))\n",
    "print(\"Test ROC AUC Score:\",roc_auc_score(gs4.predict(x_test), y_test))\n"
   ]
  },
  {
   "cell_type": "code",
   "execution_count": 45,
   "metadata": {},
   "outputs": [
    {
     "data": {
      "image/png": "[encoded data removed]",
      "text/plain": [
       "<Figure size 640x480 with 2 Axes>"
      ]
     },
     "metadata": {},
     "output_type": "display_data"
    }
   ],
   "source": [
    "# Confusion Matrix\n",
    "confusion_matrix4 = metrics.confusion_matrix(y_test,gs4.predict(x_test))\n",
    "\n",
    "cm_display4 = metrics.ConfusionMatrixDisplay(confusion_matrix = confusion_matrix4, display_labels = [True,False])\n",
    "\n",
    "cm_display4.plot()\n",
    "plt.show()"
   ]
  },
  {
   "cell_type": "code",
   "execution_count": 46,
   "metadata": {},
   "outputs": [
    {
     "data": {
      "text/plain": [
       "[<matplotlib.lines.Line2D at 0x21d41ac2c40>]"
      ]
     },
     "execution_count": 46,
     "metadata": {},
     "output_type": "execute_result"
    },
    {
     "data": {
      "image/png": "[encoded data removed]",
      "text/plain": [
       "<Figure size 640x480 with 1 Axes>"
      ]
     },
     "metadata": {},
     "output_type": "display_data"
    }
   ],
   "source": [
    "# roc-auc curve\n",
    "y_predict_probab4 = gs4.predict_proba(x_test)[:,1]\n",
    "\n",
    "from sklearn.metrics import roc_curve\n",
    "fpr, tpr,thresholds=roc_curve(y_test,y_predict_probab4)\n",
    "\n",
    "## plot roc curve\n",
    "plt.plot(fpr,tpr)"
   ]
  },
  {
   "cell_type": "markdown",
   "metadata": {},
   "source": [
    "### Model export"
   ]
  },
  {
   "cell_type": "code",
   "execution_count": 47,
   "metadata": {},
   "outputs": [
    {
     "data": {
      "text/plain": [
       "<function BufferedWriter.close>"
      ]
     },
     "execution_count": 47,
     "metadata": {},
     "output_type": "execute_result"
    }
   ],
   "source": [
    "import pickle\n",
    "model_file= open('recession_model.pk', 'wb')\n",
    "pickle.dump(gs4, model_file) #this contains the model\n",
    "model_file.close"
   ]
  },
  {
   "cell_type": "code",
   "execution_count": 48,
   "metadata": {},
   "outputs": [
    {
     "name": "stdout",
     "output_type": "stream",
     "text": [
      "[0]\n"
     ]
    }
   ],
   "source": [
    "test_sample = [[94.4,8.9,13.00,95.5,0.15234,1.666,105,30,99,1.5]]\n",
    "print(gs4.predict(test_sample))"
   ]
  },
  {
   "cell_type": "code",
   "execution_count": null,
   "metadata": {},
   "outputs": [],
   "source": [
    "import pickle\n",
    "\n",
    "# create an empty binary file\n",
    "model_file = open('recession_model.pk', 'wb')\n",
    "\n",
    "# dump the model into the file\n",
    "pickle.dump(gs4, )\n",
    "\n",
    "# Save the model\n",
    "joblib.dump(gs4, 'project_model_joblib.pkl') \n"
   ]
  },
  {
   "cell_type": "code",
   "execution_count": null,
   "metadata": {},
   "outputs": [],
   "source": [
    "!pip show scikit-learn"
   ]
  },
  {
   "cell_type": "code",
   "execution_count": null,
   "metadata": {},
   "outputs": [],
   "source": []
  }
 ],
 "metadata": {
  "colab": {
   "collapsed_sections": [],
   "name": "Model_Building.ipynb",
   "provenance": []
  },
  "kernelspec": {
   "display_name": "Python 3 (ipykernel)",
   "language": "python",
   "name": "python3"
  },
  "language_info": {
   "codemirror_mode": {
    "name": "ipython",
    "version": 3
   },
   "file_extension": ".py",
   "mimetype": "text/x-python",
   "name": "python",
   "nbconvert_exporter": "python",
   "pygments_lexer": "ipython3",
   "version": "3.9.2"
  }
 },
 "nbformat": 4,
 "nbformat_minor": 1
}
