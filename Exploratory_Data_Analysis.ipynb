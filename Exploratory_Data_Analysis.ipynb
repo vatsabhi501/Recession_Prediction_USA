{
 "cells": [
  {
   "cell_type": "markdown",
   "metadata": {},
   "source": [
    "### Importing Requiered Packages"
   ]
  },
  {
   "cell_type": "code",
   "execution_count": 1,
   "metadata": {
    "colab": {
     "base_uri": "https://localhost:8080/"
    },
    "id": "8gH7t5NcdHw0",
    "outputId": "d460aad5-0dde-4ee5-bf00-263056460221"
   },
   "outputs": [],
   "source": [
    "import pandas as pd\n",
    "import pandas as pd \n",
    "import matplotlib.pyplot as plt \n",
    "import seaborn as sns "
   ]
  },
  {
   "cell_type": "markdown",
   "metadata": {},
   "source": [
    "### Reading DataSet"
   ]
  },
  {
   "cell_type": "code",
   "execution_count": 2,
   "metadata": {
    "colab": {
     "base_uri": "https://localhost:8080/"
    },
    "id": "AS6jaNGNeTKO",
    "outputId": "eaa5e1f1-2bd4-435d-979a-1f8b5adc38fc"
   },
   "outputs": [],
   "source": [
    "df = pd.read_csv(\"Final DataFrame.csv\")"
   ]
  },
  {
   "cell_type": "code",
   "execution_count": 3,
   "metadata": {},
   "outputs": [
    {
     "name": "stdout",
     "output_type": "stream",
     "text": [
      "<class 'pandas.core.frame.DataFrame'>\n",
      "RangeIndex: 485 entries, 0 to 484\n",
      "Data columns (total 14 columns):\n",
      " #   Column                Non-Null Count  Dtype  \n",
      "---  ------                --------------  -----  \n",
      " 0   Unnamed: 0            485 non-null    int64  \n",
      " 1   Year                  485 non-null    int64  \n",
      " 2   Month                 485 non-null    int64  \n",
      " 3   Inflation/CPI         485 non-null    float64\n",
      " 4   UNRATE                485 non-null    float64\n",
      " 5   FEDFUNDS              485 non-null    float64\n",
      " 6   CCI                   485 non-null    float64\n",
      " 7   Market_Cap_to_GDP     485 non-null    float64\n",
      " 8   Avg T10Y3M            485 non-null    float64\n",
      " 9   Housing Price         485 non-null    float64\n",
      " 10  Debt_to_GDP           485 non-null    float64\n",
      " 11  Manufacturing Output  485 non-null    float64\n",
      " 12  M2V                   485 non-null    float64\n",
      " 13  Recession_US          485 non-null    int64  \n",
      "dtypes: float64(10), int64(4)\n",
      "memory usage: 53.2 KB\n"
     ]
    }
   ],
   "source": [
    "df.info()"
   ]
  },
  {
   "cell_type": "code",
   "execution_count": 4,
   "metadata": {},
   "outputs": [
    {
     "data": {
      "text/html": [
       "<div>\n",
       "<style scoped>\n",
       "    .dataframe tbody tr th:only-of-type {\n",
       "        vertical-align: middle;\n",
       "    }\n",
       "\n",
       "    .dataframe tbody tr th {\n",
       "        vertical-align: top;\n",
       "    }\n",
       "\n",
       "    .dataframe thead th {\n",
       "        text-align: right;\n",
       "    }\n",
       "</style>\n",
       "<table border=\"1\" class=\"dataframe\">\n",
       "  <thead>\n",
       "    <tr style=\"text-align: right;\">\n",
       "      <th></th>\n",
       "      <th>Unnamed: 0</th>\n",
       "      <th>Year</th>\n",
       "      <th>Month</th>\n",
       "      <th>Inflation/CPI</th>\n",
       "      <th>UNRATE</th>\n",
       "      <th>FEDFUNDS</th>\n",
       "      <th>CCI</th>\n",
       "      <th>Market_Cap_to_GDP</th>\n",
       "      <th>Avg T10Y3M</th>\n",
       "      <th>Housing Price</th>\n",
       "      <th>Debt_to_GDP</th>\n",
       "      <th>Manufacturing Output</th>\n",
       "      <th>M2V</th>\n",
       "      <th>Recession_US</th>\n",
       "    </tr>\n",
       "  </thead>\n",
       "  <tbody>\n",
       "    <tr>\n",
       "      <th>0</th>\n",
       "      <td>0</td>\n",
       "      <td>1982</td>\n",
       "      <td>1</td>\n",
       "      <td>94.4</td>\n",
       "      <td>8.6</td>\n",
       "      <td>13.22</td>\n",
       "      <td>97.50</td>\n",
       "      <td>0.184275</td>\n",
       "      <td>1.676000</td>\n",
       "      <td>106.20</td>\n",
       "      <td>32.41298</td>\n",
       "      <td>91.302757</td>\n",
       "      <td>1.842</td>\n",
       "      <td>0</td>\n",
       "    </tr>\n",
       "    <tr>\n",
       "      <th>1</th>\n",
       "      <td>1</td>\n",
       "      <td>1982</td>\n",
       "      <td>2</td>\n",
       "      <td>94.7</td>\n",
       "      <td>8.9</td>\n",
       "      <td>14.78</td>\n",
       "      <td>97.41</td>\n",
       "      <td>0.184275</td>\n",
       "      <td>0.131500</td>\n",
       "      <td>106.20</td>\n",
       "      <td>32.41298</td>\n",
       "      <td>91.302757</td>\n",
       "      <td>1.842</td>\n",
       "      <td>0</td>\n",
       "    </tr>\n",
       "    <tr>\n",
       "      <th>2</th>\n",
       "      <td>2</td>\n",
       "      <td>1982</td>\n",
       "      <td>3</td>\n",
       "      <td>94.7</td>\n",
       "      <td>9.0</td>\n",
       "      <td>14.68</td>\n",
       "      <td>97.27</td>\n",
       "      <td>0.184275</td>\n",
       "      <td>0.546522</td>\n",
       "      <td>106.20</td>\n",
       "      <td>32.41298</td>\n",
       "      <td>91.302757</td>\n",
       "      <td>1.842</td>\n",
       "      <td>0</td>\n",
       "    </tr>\n",
       "    <tr>\n",
       "      <th>3</th>\n",
       "      <td>3</td>\n",
       "      <td>1982</td>\n",
       "      <td>4</td>\n",
       "      <td>95.0</td>\n",
       "      <td>9.3</td>\n",
       "      <td>14.94</td>\n",
       "      <td>97.31</td>\n",
       "      <td>0.182363</td>\n",
       "      <td>0.503182</td>\n",
       "      <td>108.84</td>\n",
       "      <td>32.40213</td>\n",
       "      <td>91.302757</td>\n",
       "      <td>1.836</td>\n",
       "      <td>0</td>\n",
       "    </tr>\n",
       "    <tr>\n",
       "      <th>4</th>\n",
       "      <td>4</td>\n",
       "      <td>1982</td>\n",
       "      <td>5</td>\n",
       "      <td>95.9</td>\n",
       "      <td>9.4</td>\n",
       "      <td>14.45</td>\n",
       "      <td>97.38</td>\n",
       "      <td>0.182363</td>\n",
       "      <td>0.865238</td>\n",
       "      <td>108.84</td>\n",
       "      <td>32.40213</td>\n",
       "      <td>91.302757</td>\n",
       "      <td>1.836</td>\n",
       "      <td>0</td>\n",
       "    </tr>\n",
       "  </tbody>\n",
       "</table>\n",
       "</div>"
      ],
      "text/plain": [
       "   Unnamed: 0  Year  Month  Inflation/CPI  UNRATE  FEDFUNDS    CCI  \\\n",
       "0           0  1982      1           94.4     8.6     13.22  97.50   \n",
       "1           1  1982      2           94.7     8.9     14.78  97.41   \n",
       "2           2  1982      3           94.7     9.0     14.68  97.27   \n",
       "3           3  1982      4           95.0     9.3     14.94  97.31   \n",
       "4           4  1982      5           95.9     9.4     14.45  97.38   \n",
       "\n",
       "   Market_Cap_to_GDP  Avg T10Y3M  Housing Price  Debt_to_GDP  \\\n",
       "0           0.184275    1.676000         106.20     32.41298   \n",
       "1           0.184275    0.131500         106.20     32.41298   \n",
       "2           0.184275    0.546522         106.20     32.41298   \n",
       "3           0.182363    0.503182         108.84     32.40213   \n",
       "4           0.182363    0.865238         108.84     32.40213   \n",
       "\n",
       "   Manufacturing Output    M2V  Recession_US  \n",
       "0             91.302757  1.842             0  \n",
       "1             91.302757  1.842             0  \n",
       "2             91.302757  1.842             0  \n",
       "3             91.302757  1.836             0  \n",
       "4             91.302757  1.836             0  "
      ]
     },
     "execution_count": 4,
     "metadata": {},
     "output_type": "execute_result"
    }
   ],
   "source": [
    "df.head()"
   ]
  },
  {
   "cell_type": "code",
   "execution_count": 5,
   "metadata": {
    "colab": {
     "base_uri": "https://localhost:8080/"
    },
    "id": "22NWTffof0Yk",
    "outputId": "eb08b830-cbca-45ee-f8f2-e2b18daae86e"
   },
   "outputs": [
    {
     "data": {
      "text/plain": [
       "Index(['Unnamed: 0', 'Year', 'Month', 'Inflation/CPI', 'UNRATE', 'FEDFUNDS',\n",
       "       'CCI', 'Market_Cap_to_GDP', 'Avg T10Y3M', 'Housing Price',\n",
       "       'Debt_to_GDP', 'Manufacturing Output', 'M2V', 'Recession_US'],\n",
       "      dtype='object')"
      ]
     },
     "execution_count": 5,
     "metadata": {},
     "output_type": "execute_result"
    }
   ],
   "source": [
    "df.columns"
   ]
  },
  {
   "cell_type": "code",
   "execution_count": 6,
   "metadata": {
    "colab": {
     "base_uri": "https://localhost:8080/",
     "height": 297
    },
    "id": "kk8FGRi_nMzU",
    "outputId": "d0f00b6d-eb13-47d6-c24c-6ece78b23cdb"
   },
   "outputs": [
    {
     "data": {
      "text/html": [
       "<div>\n",
       "<style scoped>\n",
       "    .dataframe tbody tr th:only-of-type {\n",
       "        vertical-align: middle;\n",
       "    }\n",
       "\n",
       "    .dataframe tbody tr th {\n",
       "        vertical-align: top;\n",
       "    }\n",
       "\n",
       "    .dataframe thead th {\n",
       "        text-align: right;\n",
       "    }\n",
       "</style>\n",
       "<table border=\"1\" class=\"dataframe\">\n",
       "  <thead>\n",
       "    <tr style=\"text-align: right;\">\n",
       "      <th></th>\n",
       "      <th>Unnamed: 0</th>\n",
       "      <th>Year</th>\n",
       "      <th>Month</th>\n",
       "      <th>Inflation/CPI</th>\n",
       "      <th>UNRATE</th>\n",
       "      <th>FEDFUNDS</th>\n",
       "      <th>CCI</th>\n",
       "      <th>Market_Cap_to_GDP</th>\n",
       "      <th>Avg T10Y3M</th>\n",
       "      <th>Housing Price</th>\n",
       "      <th>Debt_to_GDP</th>\n",
       "      <th>Manufacturing Output</th>\n",
       "      <th>M2V</th>\n",
       "      <th>Recession_US</th>\n",
       "    </tr>\n",
       "  </thead>\n",
       "  <tbody>\n",
       "    <tr>\n",
       "      <th>count</th>\n",
       "      <td>485.000000</td>\n",
       "      <td>485.000000</td>\n",
       "      <td>485.000000</td>\n",
       "      <td>485.000000</td>\n",
       "      <td>485.000000</td>\n",
       "      <td>485.000000</td>\n",
       "      <td>485.000000</td>\n",
       "      <td>485.000000</td>\n",
       "      <td>485.000000</td>\n",
       "      <td>485.000000</td>\n",
       "      <td>485.000000</td>\n",
       "      <td>485.000000</td>\n",
       "      <td>485.000000</td>\n",
       "      <td>485.000000</td>\n",
       "    </tr>\n",
       "    <tr>\n",
       "      <th>mean</th>\n",
       "      <td>242.000000</td>\n",
       "      <td>2001.711340</td>\n",
       "      <td>6.463918</td>\n",
       "      <td>181.330862</td>\n",
       "      <td>6.140619</td>\n",
       "      <td>3.900124</td>\n",
       "      <td>100.109938</td>\n",
       "      <td>0.877226</td>\n",
       "      <td>1.662716</td>\n",
       "      <td>270.776577</td>\n",
       "      <td>71.168191</td>\n",
       "      <td>91.118162</td>\n",
       "      <td>1.798614</td>\n",
       "      <td>0.082474</td>\n",
       "    </tr>\n",
       "    <tr>\n",
       "      <th>std</th>\n",
       "      <td>140.151704</td>\n",
       "      <td>11.680986</td>\n",
       "      <td>3.458914</td>\n",
       "      <td>51.810688</td>\n",
       "      <td>1.790199</td>\n",
       "      <td>3.340533</td>\n",
       "      <td>1.488588</td>\n",
       "      <td>0.528545</td>\n",
       "      <td>1.051640</td>\n",
       "      <td>112.473105</td>\n",
       "      <td>24.602312</td>\n",
       "      <td>12.565711</td>\n",
       "      <td>0.268266</td>\n",
       "      <td>0.275370</td>\n",
       "    </tr>\n",
       "    <tr>\n",
       "      <th>min</th>\n",
       "      <td>0.000000</td>\n",
       "      <td>1982.000000</td>\n",
       "      <td>1.000000</td>\n",
       "      <td>94.400000</td>\n",
       "      <td>3.500000</td>\n",
       "      <td>0.050000</td>\n",
       "      <td>96.440000</td>\n",
       "      <td>0.181416</td>\n",
       "      <td>-0.663333</td>\n",
       "      <td>106.200000</td>\n",
       "      <td>32.402130</td>\n",
       "      <td>62.798000</td>\n",
       "      <td>1.112000</td>\n",
       "      <td>0.000000</td>\n",
       "    </tr>\n",
       "    <tr>\n",
       "      <th>25%</th>\n",
       "      <td>121.000000</td>\n",
       "      <td>1992.000000</td>\n",
       "      <td>3.000000</td>\n",
       "      <td>138.600000</td>\n",
       "      <td>4.800000</td>\n",
       "      <td>0.410000</td>\n",
       "      <td>99.090000</td>\n",
       "      <td>0.456154</td>\n",
       "      <td>0.821739</td>\n",
       "      <td>172.780000</td>\n",
       "      <td>55.484910</td>\n",
       "      <td>85.895000</td>\n",
       "      <td>1.631000</td>\n",
       "      <td>0.000000</td>\n",
       "    </tr>\n",
       "    <tr>\n",
       "      <th>50%</th>\n",
       "      <td>242.000000</td>\n",
       "      <td>2002.000000</td>\n",
       "      <td>6.000000</td>\n",
       "      <td>178.500000</td>\n",
       "      <td>5.700000</td>\n",
       "      <td>3.620000</td>\n",
       "      <td>100.570000</td>\n",
       "      <td>0.844218</td>\n",
       "      <td>1.680435</td>\n",
       "      <td>262.800000</td>\n",
       "      <td>62.252970</td>\n",
       "      <td>95.541000</td>\n",
       "      <td>1.829000</td>\n",
       "      <td>0.000000</td>\n",
       "    </tr>\n",
       "    <tr>\n",
       "      <th>75%</th>\n",
       "      <td>363.000000</td>\n",
       "      <td>2012.000000</td>\n",
       "      <td>9.000000</td>\n",
       "      <td>228.590000</td>\n",
       "      <td>7.200000</td>\n",
       "      <td>5.980000</td>\n",
       "      <td>101.080000</td>\n",
       "      <td>1.103970</td>\n",
       "      <td>2.515000</td>\n",
       "      <td>354.940000</td>\n",
       "      <td>97.827540</td>\n",
       "      <td>101.423000</td>\n",
       "      <td>1.993000</td>\n",
       "      <td>0.000000</td>\n",
       "    </tr>\n",
       "    <tr>\n",
       "      <th>max</th>\n",
       "      <td>484.000000</td>\n",
       "      <td>2022.000000</td>\n",
       "      <td>12.000000</td>\n",
       "      <td>291.474000</td>\n",
       "      <td>14.700000</td>\n",
       "      <td>14.940000</td>\n",
       "      <td>102.990000</td>\n",
       "      <td>2.532661</td>\n",
       "      <td>4.057727</td>\n",
       "      <td>617.890000</td>\n",
       "      <td>134.835280</td>\n",
       "      <td>108.149000</td>\n",
       "      <td>2.192000</td>\n",
       "      <td>1.000000</td>\n",
       "    </tr>\n",
       "  </tbody>\n",
       "</table>\n",
       "</div>"
      ],
      "text/plain": [
       "       Unnamed: 0         Year       Month  Inflation/CPI      UNRATE  \\\n",
       "count  485.000000   485.000000  485.000000     485.000000  485.000000   \n",
       "mean   242.000000  2001.711340    6.463918     181.330862    6.140619   \n",
       "std    140.151704    11.680986    3.458914      51.810688    1.790199   \n",
       "min      0.000000  1982.000000    1.000000      94.400000    3.500000   \n",
       "25%    121.000000  1992.000000    3.000000     138.600000    4.800000   \n",
       "50%    242.000000  2002.000000    6.000000     178.500000    5.700000   \n",
       "75%    363.000000  2012.000000    9.000000     228.590000    7.200000   \n",
       "max    484.000000  2022.000000   12.000000     291.474000   14.700000   \n",
       "\n",
       "         FEDFUNDS         CCI  Market_Cap_to_GDP  Avg T10Y3M  Housing Price  \\\n",
       "count  485.000000  485.000000         485.000000  485.000000     485.000000   \n",
       "mean     3.900124  100.109938           0.877226    1.662716     270.776577   \n",
       "std      3.340533    1.488588           0.528545    1.051640     112.473105   \n",
       "min      0.050000   96.440000           0.181416   -0.663333     106.200000   \n",
       "25%      0.410000   99.090000           0.456154    0.821739     172.780000   \n",
       "50%      3.620000  100.570000           0.844218    1.680435     262.800000   \n",
       "75%      5.980000  101.080000           1.103970    2.515000     354.940000   \n",
       "max     14.940000  102.990000           2.532661    4.057727     617.890000   \n",
       "\n",
       "       Debt_to_GDP  Manufacturing Output         M2V  Recession_US  \n",
       "count   485.000000            485.000000  485.000000    485.000000  \n",
       "mean     71.168191             91.118162    1.798614      0.082474  \n",
       "std      24.602312             12.565711    0.268266      0.275370  \n",
       "min      32.402130             62.798000    1.112000      0.000000  \n",
       "25%      55.484910             85.895000    1.631000      0.000000  \n",
       "50%      62.252970             95.541000    1.829000      0.000000  \n",
       "75%      97.827540            101.423000    1.993000      0.000000  \n",
       "max     134.835280            108.149000    2.192000      1.000000  "
      ]
     },
     "execution_count": 6,
     "metadata": {},
     "output_type": "execute_result"
    }
   ],
   "source": [
    "df.describe()"
   ]
  },
  {
   "cell_type": "markdown",
   "metadata": {
    "id": "XVLyw9OFoN1n"
   },
   "source": [
    "### Histograms for features"
   ]
  },
  {
   "cell_type": "code",
   "execution_count": 7,
   "metadata": {
    "colab": {
     "base_uri": "https://localhost:8080/",
     "height": 282
    },
    "id": "cki-kyeynqog",
    "outputId": "c844aa25-fe37-40f7-fbb7-7cc3cfd11a40"
   },
   "outputs": [
    {
     "data": {
      "text/plain": [
       "<Axes: >"
      ]
     },
     "execution_count": 7,
     "metadata": {},
     "output_type": "execute_result"
    },
    {
     "data": {
      "image/png": "[encoded data removed]",
      "text/plain": [
       "<Figure size 640x480 with 1 Axes>"
      ]
     },
     "metadata": {},
     "output_type": "display_data"
    }
   ],
   "source": [
    "#Histogram for the Inflation/CPI Data\n",
    "df['Inflation/CPI'].hist()"
   ]
  },
  {
   "cell_type": "code",
   "execution_count": 8,
   "metadata": {
    "colab": {
     "base_uri": "https://localhost:8080/",
     "height": 282
    },
    "id": "2fwViIT9oXk9",
    "outputId": "b795b79c-7ada-4d06-83be-a91ba4edb22c"
   },
   "outputs": [
    {
     "data": {
      "text/plain": [
       "<Axes: >"
      ]
     },
     "execution_count": 8,
     "metadata": {},
     "output_type": "execute_result"
    },
    {
     "data": {
      "image/png": "[encoded data removed]",
      "text/plain": [
       "<Figure size 640x480 with 1 Axes>"
      ]
     },
     "metadata": {},
     "output_type": "display_data"
    }
   ],
   "source": [
    "#Histogram for the Unemployment Rate Data\n",
    "df['UNRATE'].hist()"
   ]
  },
  {
   "cell_type": "code",
   "execution_count": 9,
   "metadata": {
    "colab": {
     "base_uri": "https://localhost:8080/",
     "height": 282
    },
    "id": "sVuUFgZIoman",
    "outputId": "307a442d-0d2d-4327-dc5d-40a7fc643c98"
   },
   "outputs": [
    {
     "data": {
      "text/plain": [
       "<Axes: >"
      ]
     },
     "execution_count": 9,
     "metadata": {},
     "output_type": "execute_result"
    },
    {
     "data": {
      "image/png": "[encoded data removed]",
      "text/plain": [
       "<Figure size 640x480 with 1 Axes>"
      ]
     },
     "metadata": {},
     "output_type": "display_data"
    }
   ],
   "source": [
    "#Histogram for the Effective Federal Funds Rate Data\n",
    "df['FEDFUNDS'].hist()"
   ]
  },
  {
   "cell_type": "code",
   "execution_count": 10,
   "metadata": {
    "colab": {
     "base_uri": "https://localhost:8080/",
     "height": 282
    },
    "id": "Lnqh86n6oyvw",
    "outputId": "49fb26eb-2d73-48ee-fa8a-04fc4bfe9f30"
   },
   "outputs": [
    {
     "data": {
      "text/plain": [
       "<Axes: >"
      ]
     },
     "execution_count": 10,
     "metadata": {},
     "output_type": "execute_result"
    },
    {
     "data": {
      "image/png": "[encoded data removed]",
      "text/plain": [
       "<Figure size 640x480 with 1 Axes>"
      ]
     },
     "metadata": {},
     "output_type": "display_data"
    }
   ],
   "source": [
    "#Histogram for the Consumer Confidence Index Data\n",
    "df['CCI'].hist()"
   ]
  },
  {
   "cell_type": "code",
   "execution_count": 11,
   "metadata": {
    "colab": {
     "base_uri": "https://localhost:8080/",
     "height": 282
    },
    "id": "o8IJbb2Qo3OS",
    "outputId": "19f8e15e-2129-47fc-dfd3-259696937c3c"
   },
   "outputs": [
    {
     "data": {
      "text/plain": [
       "<Axes: >"
      ]
     },
     "execution_count": 11,
     "metadata": {},
     "output_type": "execute_result"
    },
    {
     "data": {
      "image/png": "[encoded data removed]",
      "text/plain": [
       "<Figure size 640x480 with 1 Axes>"
      ]
     },
     "metadata": {},
     "output_type": "display_data"
    }
   ],
   "source": [
    "#Histogram for the Market Cap/GDP (Buffett Indicator) Data\n",
    "df['Market_Cap_to_GDP'].hist()"
   ]
  },
  {
   "cell_type": "code",
   "execution_count": 13,
   "metadata": {
    "colab": {
     "base_uri": "https://localhost:8080/",
     "height": 282
    },
    "id": "QRvzEenRo4CX",
    "outputId": "9b3d5ea2-1263-4901-a365-af5af1048e8c"
   },
   "outputs": [
    {
     "data": {
      "text/plain": [
       "<Axes: >"
      ]
     },
     "execution_count": 13,
     "metadata": {},
     "output_type": "execute_result"
    },
    {
     "data": {
      "image/png": "[encoded data removed]",
      "text/plain": [
       "<Figure size 640x480 with 1 Axes>"
      ]
     },
     "metadata": {},
     "output_type": "display_data"
    }
   ],
   "source": [
    "#Histogram for the Yield Curve Data\n",
    "df['Avg T10Y3M'].hist()"
   ]
  },
  {
   "cell_type": "code",
   "execution_count": 14,
   "metadata": {},
   "outputs": [
    {
     "data": {
      "text/plain": [
       "<Axes: >"
      ]
     },
     "execution_count": 14,
     "metadata": {},
     "output_type": "execute_result"
    },
    {
     "data": {
      "image/png": "[encoded data removed]",
      "text/plain": [
       "<Figure size 640x480 with 1 Axes>"
      ]
     },
     "metadata": {},
     "output_type": "display_data"
    }
   ],
   "source": [
    "# Histogram for the M2 Velocity\n",
    "df['M2V'].hist()"
   ]
  },
  {
   "cell_type": "markdown",
   "metadata": {
    "id": "KDqdp3flo0-u"
   },
   "source": [
    "### Boxplots for Features"
   ]
  },
  {
   "cell_type": "code",
   "execution_count": 15,
   "metadata": {
    "colab": {
     "base_uri": "https://localhost:8080/",
     "height": 282
    },
    "id": "IKrV0mD-o2T-",
    "outputId": "354f6cc4-c96b-439e-e698-6670d66e450b"
   },
   "outputs": [
    {
     "data": {
      "text/plain": [
       "<Axes: >"
      ]
     },
     "execution_count": 15,
     "metadata": {},
     "output_type": "execute_result"
    },
    {
     "data": {
      "image/png": "[encoded data removed]",
      "text/plain": [
       "<Figure size 640x480 with 1 Axes>"
      ]
     },
     "metadata": {},
     "output_type": "display_data"
    }
   ],
   "source": [
    "df.boxplot(column = ['Inflation/CPI'])"
   ]
  },
  {
   "cell_type": "code",
   "execution_count": 16,
   "metadata": {
    "colab": {
     "base_uri": "https://localhost:8080/",
     "height": 282
    },
    "id": "3dj3rd3dpXWa",
    "outputId": "95012329-b7ae-45f5-aa20-ad0085649132"
   },
   "outputs": [
    {
     "data": {
      "text/plain": [
       "<Axes: >"
      ]
     },
     "execution_count": 16,
     "metadata": {},
     "output_type": "execute_result"
    },
    {
     "data": {
      "image/png": "[encoded data removed]",
      "text/plain": [
       "<Figure size 640x480 with 1 Axes>"
      ]
     },
     "metadata": {},
     "output_type": "display_data"
    }
   ],
   "source": [
    "df.boxplot(column = ['UNRATE'])"
   ]
  },
  {
   "cell_type": "code",
   "execution_count": 17,
   "metadata": {
    "colab": {
     "base_uri": "https://localhost:8080/",
     "height": 282
    },
    "id": "hEq-L0CTpnh_",
    "outputId": "2b3b8bf3-72c6-4895-98a4-2ffa3e2b9525"
   },
   "outputs": [
    {
     "data": {
      "text/plain": [
       "<Axes: >"
      ]
     },
     "execution_count": 17,
     "metadata": {},
     "output_type": "execute_result"
    },
    {
     "data": {
      "image/png": "[encoded data removed]",
      "text/plain": [
       "<Figure size 640x480 with 1 Axes>"
      ]
     },
     "metadata": {},
     "output_type": "display_data"
    }
   ],
   "source": [
    "df.boxplot(column = ['FEDFUNDS'])"
   ]
  },
  {
   "cell_type": "code",
   "execution_count": 18,
   "metadata": {
    "colab": {
     "base_uri": "https://localhost:8080/",
     "height": 282
    },
    "id": "DmNc7vHUpoAE",
    "outputId": "ceb723e8-99ef-43e4-b04c-98d20861ca00"
   },
   "outputs": [
    {
     "data": {
      "text/plain": [
       "<Axes: >"
      ]
     },
     "execution_count": 18,
     "metadata": {},
     "output_type": "execute_result"
    },
    {
     "data": {
      "image/png": "[encoded data removed]",
      "text/plain": [
       "<Figure size 640x480 with 1 Axes>"
      ]
     },
     "metadata": {},
     "output_type": "display_data"
    }
   ],
   "source": [
    "df.boxplot(column = ['CCI'])"
   ]
  },
  {
   "cell_type": "code",
   "execution_count": 19,
   "metadata": {
    "colab": {
     "base_uri": "https://localhost:8080/",
     "height": 283
    },
    "id": "Ir4zqmrnpo3J",
    "outputId": "11b85c45-58eb-45c8-8ffe-a980c395911c"
   },
   "outputs": [
    {
     "data": {
      "text/plain": [
       "<Axes: >"
      ]
     },
     "execution_count": 19,
     "metadata": {},
     "output_type": "execute_result"
    },
    {
     "data": {
      "image/png": "[encoded data removed]",
      "text/plain": [
       "<Figure size 640x480 with 1 Axes>"
      ]
     },
     "metadata": {},
     "output_type": "display_data"
    }
   ],
   "source": [
    "df.boxplot(column = ['Market_Cap_to_GDP'])"
   ]
  },
  {
   "cell_type": "code",
   "execution_count": 21,
   "metadata": {
    "colab": {
     "base_uri": "https://localhost:8080/",
     "height": 283
    },
    "id": "UHzRKxYMppd0",
    "outputId": "97ffb3b6-fc27-4581-ea4d-ef25d115d595"
   },
   "outputs": [
    {
     "data": {
      "text/plain": [
       "<Axes: >"
      ]
     },
     "execution_count": 21,
     "metadata": {},
     "output_type": "execute_result"
    },
    {
     "data": {
      "image/png": "[encoded data removed]",
      "text/plain": [
       "<Figure size 640x480 with 1 Axes>"
      ]
     },
     "metadata": {},
     "output_type": "display_data"
    }
   ],
   "source": [
    "df.boxplot(column = ['Avg T10Y3M'])"
   ]
  },
  {
   "cell_type": "markdown",
   "metadata": {
    "id": "8EkCkNA4qkBd"
   },
   "source": [
    "### Correlation Between Features"
   ]
  },
  {
   "cell_type": "code",
   "execution_count": 22,
   "metadata": {
    "colab": {
     "base_uri": "https://localhost:8080/",
     "height": 266
    },
    "id": "cmbkHeVrqidF",
    "outputId": "6a90f3d1-a9a3-4f08-9dd9-a1da48689b6f"
   },
   "outputs": [
    {
     "data": {
      "text/html": [
       "<div>\n",
       "<style scoped>\n",
       "    .dataframe tbody tr th:only-of-type {\n",
       "        vertical-align: middle;\n",
       "    }\n",
       "\n",
       "    .dataframe tbody tr th {\n",
       "        vertical-align: top;\n",
       "    }\n",
       "\n",
       "    .dataframe thead th {\n",
       "        text-align: right;\n",
       "    }\n",
       "</style>\n",
       "<table border=\"1\" class=\"dataframe\">\n",
       "  <thead>\n",
       "    <tr style=\"text-align: right;\">\n",
       "      <th></th>\n",
       "      <th>Inflation/CPI</th>\n",
       "      <th>UNRATE</th>\n",
       "      <th>FEDFUNDS</th>\n",
       "      <th>CCI</th>\n",
       "      <th>Market_Cap_to_GDP</th>\n",
       "      <th>Avg T10Y3M</th>\n",
       "      <th>Housing Price</th>\n",
       "      <th>Debt_to_GDP</th>\n",
       "      <th>Manufacturing Output</th>\n",
       "      <th>M2V</th>\n",
       "      <th>Recession_US</th>\n",
       "    </tr>\n",
       "  </thead>\n",
       "  <tbody>\n",
       "    <tr>\n",
       "      <th>Inflation/CPI</th>\n",
       "      <td>1.000000</td>\n",
       "      <td>-0.237280</td>\n",
       "      <td>-0.862150</td>\n",
       "      <td>-0.212979</td>\n",
       "      <td>0.887889</td>\n",
       "      <td>-0.146520</td>\n",
       "      <td>0.961051</td>\n",
       "      <td>0.918863</td>\n",
       "      <td>0.681310</td>\n",
       "      <td>-0.601832</td>\n",
       "      <td>0.056172</td>\n",
       "    </tr>\n",
       "    <tr>\n",
       "      <th>UNRATE</th>\n",
       "      <td>-0.237280</td>\n",
       "      <td>1.000000</td>\n",
       "      <td>0.044088</td>\n",
       "      <td>-0.578681</td>\n",
       "      <td>-0.384517</td>\n",
       "      <td>0.534637</td>\n",
       "      <td>-0.286409</td>\n",
       "      <td>-0.090145</td>\n",
       "      <td>-0.176026</td>\n",
       "      <td>-0.142681</td>\n",
       "      <td>0.009955</td>\n",
       "    </tr>\n",
       "    <tr>\n",
       "      <th>FEDFUNDS</th>\n",
       "      <td>-0.862150</td>\n",
       "      <td>0.044088</td>\n",
       "      <td>1.000000</td>\n",
       "      <td>0.270903</td>\n",
       "      <td>-0.664503</td>\n",
       "      <td>-0.237928</td>\n",
       "      <td>-0.773377</td>\n",
       "      <td>-0.811555</td>\n",
       "      <td>-0.485627</td>\n",
       "      <td>0.464613</td>\n",
       "      <td>-0.055961</td>\n",
       "    </tr>\n",
       "    <tr>\n",
       "      <th>CCI</th>\n",
       "      <td>-0.212979</td>\n",
       "      <td>-0.578681</td>\n",
       "      <td>0.270903</td>\n",
       "      <td>1.000000</td>\n",
       "      <td>0.005079</td>\n",
       "      <td>-0.373346</td>\n",
       "      <td>-0.224949</td>\n",
       "      <td>-0.227259</td>\n",
       "      <td>-0.006500</td>\n",
       "      <td>0.322755</td>\n",
       "      <td>-0.359720</td>\n",
       "    </tr>\n",
       "    <tr>\n",
       "      <th>Market_Cap_to_GDP</th>\n",
       "      <td>0.887889</td>\n",
       "      <td>-0.384517</td>\n",
       "      <td>-0.664503</td>\n",
       "      <td>0.005079</td>\n",
       "      <td>1.000000</td>\n",
       "      <td>-0.315151</td>\n",
       "      <td>0.901188</td>\n",
       "      <td>0.867876</td>\n",
       "      <td>0.601269</td>\n",
       "      <td>-0.644412</td>\n",
       "      <td>-0.050179</td>\n",
       "    </tr>\n",
       "    <tr>\n",
       "      <th>Avg T10Y3M</th>\n",
       "      <td>-0.146520</td>\n",
       "      <td>0.534637</td>\n",
       "      <td>-0.237928</td>\n",
       "      <td>-0.373346</td>\n",
       "      <td>-0.315151</td>\n",
       "      <td>1.000000</td>\n",
       "      <td>-0.207492</td>\n",
       "      <td>-0.088878</td>\n",
       "      <td>-0.179438</td>\n",
       "      <td>-0.042872</td>\n",
       "      <td>0.026427</td>\n",
       "    </tr>\n",
       "    <tr>\n",
       "      <th>Housing Price</th>\n",
       "      <td>0.961051</td>\n",
       "      <td>-0.286409</td>\n",
       "      <td>-0.773377</td>\n",
       "      <td>-0.224949</td>\n",
       "      <td>0.901188</td>\n",
       "      <td>-0.207492</td>\n",
       "      <td>1.000000</td>\n",
       "      <td>0.848834</td>\n",
       "      <td>0.683274</td>\n",
       "      <td>-0.622106</td>\n",
       "      <td>0.071737</td>\n",
       "    </tr>\n",
       "    <tr>\n",
       "      <th>Debt_to_GDP</th>\n",
       "      <td>0.918863</td>\n",
       "      <td>-0.090145</td>\n",
       "      <td>-0.811555</td>\n",
       "      <td>-0.227259</td>\n",
       "      <td>0.867876</td>\n",
       "      <td>-0.088878</td>\n",
       "      <td>0.848834</td>\n",
       "      <td>1.000000</td>\n",
       "      <td>0.463569</td>\n",
       "      <td>-0.755154</td>\n",
       "      <td>-0.049085</td>\n",
       "    </tr>\n",
       "    <tr>\n",
       "      <th>Manufacturing Output</th>\n",
       "      <td>0.681310</td>\n",
       "      <td>-0.176026</td>\n",
       "      <td>-0.485627</td>\n",
       "      <td>-0.006500</td>\n",
       "      <td>0.601269</td>\n",
       "      <td>-0.179438</td>\n",
       "      <td>0.683274</td>\n",
       "      <td>0.463569</td>\n",
       "      <td>1.000000</td>\n",
       "      <td>-0.298510</td>\n",
       "      <td>-0.025636</td>\n",
       "    </tr>\n",
       "    <tr>\n",
       "      <th>M2V</th>\n",
       "      <td>-0.601832</td>\n",
       "      <td>-0.142681</td>\n",
       "      <td>0.464613</td>\n",
       "      <td>0.322755</td>\n",
       "      <td>-0.644412</td>\n",
       "      <td>-0.042872</td>\n",
       "      <td>-0.622106</td>\n",
       "      <td>-0.755154</td>\n",
       "      <td>-0.298510</td>\n",
       "      <td>1.000000</td>\n",
       "      <td>0.050971</td>\n",
       "    </tr>\n",
       "    <tr>\n",
       "      <th>Recession_US</th>\n",
       "      <td>0.056172</td>\n",
       "      <td>0.009955</td>\n",
       "      <td>-0.055961</td>\n",
       "      <td>-0.359720</td>\n",
       "      <td>-0.050179</td>\n",
       "      <td>0.026427</td>\n",
       "      <td>0.071737</td>\n",
       "      <td>-0.049085</td>\n",
       "      <td>-0.025636</td>\n",
       "      <td>0.050971</td>\n",
       "      <td>1.000000</td>\n",
       "    </tr>\n",
       "  </tbody>\n",
       "</table>\n",
       "</div>"
      ],
      "text/plain": [
       "                      Inflation/CPI    UNRATE  FEDFUNDS       CCI  \\\n",
       "Inflation/CPI              1.000000 -0.237280 -0.862150 -0.212979   \n",
       "UNRATE                    -0.237280  1.000000  0.044088 -0.578681   \n",
       "FEDFUNDS                  -0.862150  0.044088  1.000000  0.270903   \n",
       "CCI                       -0.212979 -0.578681  0.270903  1.000000   \n",
       "Market_Cap_to_GDP          0.887889 -0.384517 -0.664503  0.005079   \n",
       "Avg T10Y3M                -0.146520  0.534637 -0.237928 -0.373346   \n",
       "Housing Price              0.961051 -0.286409 -0.773377 -0.224949   \n",
       "Debt_to_GDP                0.918863 -0.090145 -0.811555 -0.227259   \n",
       "Manufacturing Output       0.681310 -0.176026 -0.485627 -0.006500   \n",
       "M2V                       -0.601832 -0.142681  0.464613  0.322755   \n",
       "Recession_US               0.056172  0.009955 -0.055961 -0.359720   \n",
       "\n",
       "                      Market_Cap_to_GDP  Avg T10Y3M  Housing Price  \\\n",
       "Inflation/CPI                  0.887889   -0.146520       0.961051   \n",
       "UNRATE                        -0.384517    0.534637      -0.286409   \n",
       "FEDFUNDS                      -0.664503   -0.237928      -0.773377   \n",
       "CCI                            0.005079   -0.373346      -0.224949   \n",
       "Market_Cap_to_GDP              1.000000   -0.315151       0.901188   \n",
       "Avg T10Y3M                    -0.315151    1.000000      -0.207492   \n",
       "Housing Price                  0.901188   -0.207492       1.000000   \n",
       "Debt_to_GDP                    0.867876   -0.088878       0.848834   \n",
       "Manufacturing Output           0.601269   -0.179438       0.683274   \n",
       "M2V                           -0.644412   -0.042872      -0.622106   \n",
       "Recession_US                  -0.050179    0.026427       0.071737   \n",
       "\n",
       "                      Debt_to_GDP  Manufacturing Output       M2V  \\\n",
       "Inflation/CPI            0.918863              0.681310 -0.601832   \n",
       "UNRATE                  -0.090145             -0.176026 -0.142681   \n",
       "FEDFUNDS                -0.811555             -0.485627  0.464613   \n",
       "CCI                     -0.227259             -0.006500  0.322755   \n",
       "Market_Cap_to_GDP        0.867876              0.601269 -0.644412   \n",
       "Avg T10Y3M              -0.088878             -0.179438 -0.042872   \n",
       "Housing Price            0.848834              0.683274 -0.622106   \n",
       "Debt_to_GDP              1.000000              0.463569 -0.755154   \n",
       "Manufacturing Output     0.463569              1.000000 -0.298510   \n",
       "M2V                     -0.755154             -0.298510  1.000000   \n",
       "Recession_US            -0.049085             -0.025636  0.050971   \n",
       "\n",
       "                      Recession_US  \n",
       "Inflation/CPI             0.056172  \n",
       "UNRATE                    0.009955  \n",
       "FEDFUNDS                 -0.055961  \n",
       "CCI                      -0.359720  \n",
       "Market_Cap_to_GDP        -0.050179  \n",
       "Avg T10Y3M                0.026427  \n",
       "Housing Price             0.071737  \n",
       "Debt_to_GDP              -0.049085  \n",
       "Manufacturing Output     -0.025636  \n",
       "M2V                       0.050971  \n",
       "Recession_US              1.000000  "
      ]
     },
     "execution_count": 22,
     "metadata": {},
     "output_type": "execute_result"
    }
   ],
   "source": [
    "df[['Inflation/CPI', 'UNRATE', 'FEDFUNDS',\n",
    "       'CCI', 'Market_Cap_to_GDP', 'Avg T10Y3M', 'Housing Price',\n",
    "       'Debt_to_GDP', 'Manufacturing Output', 'M2V', 'Recession_US']].corr()"
   ]
  },
  {
   "cell_type": "code",
   "execution_count": 24,
   "metadata": {
    "colab": {
     "base_uri": "https://localhost:8080/",
     "height": 372
    },
    "id": "vCtbMDN9q_iY",
    "outputId": "d0f65082-b584-431f-92b2-2247b550fda8"
   },
   "outputs": [
    {
     "data": {
      "text/plain": [
       "<Axes: >"
      ]
     },
     "execution_count": 24,
     "metadata": {},
     "output_type": "execute_result"
    },
    {
     "data": {
      "image/png": "[encoded data removed]",
      "text/plain": [
       "<Figure size 640x480 with 2 Axes>"
      ]
     },
     "metadata": {},
     "output_type": "display_data"
    }
   ],
   "source": [
    "#Heatmap\n",
    "cmap = sns.diverging_palette(220, 10, as_cmap=True)\n",
    "sns.heatmap(df[['Inflation/CPI', 'UNRATE', 'FEDFUNDS',\n",
    "       'CCI', 'Market_Cap_to_GDP', 'Avg T10Y3M', 'Housing Price',\n",
    "       'Debt_to_GDP', 'Manufacturing Output', 'M2V', 'Recession_US']].corr(),vmax=.3, center=0, cmap=cmap,\n",
    "            square=True, linewidths=.5, cbar_kws={\"shrink\": .5})"
   ]
  }
 ],
 "metadata": {
  "colab": {
   "collapsed_sections": [],
   "name": "Exploratory_Data_Analysis.ipynb",
   "provenance": []
  },
  "kernelspec": {
   "display_name": "Python 3 (ipykernel)",
   "language": "python",
   "name": "python3"
  },
  "language_info": {
   "codemirror_mode": {
    "name": "ipython",
    "version": 3
   },
   "file_extension": ".py",
   "mimetype": "text/x-python",
   "name": "python",
   "nbconvert_exporter": "python",
   "pygments_lexer": "ipython3",
   "version": "3.9.2"
  }
 },
 "nbformat": 4,
 "nbformat_minor": 1
}
